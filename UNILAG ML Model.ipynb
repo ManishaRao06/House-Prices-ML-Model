{
 "cells": [
  {
   "cell_type": "markdown",
   "id": "cc0b8e88",
   "metadata": {},
   "source": [
    "# Machine Learning: A Predictive Model for house prices in Ames, Iowa"
   ]
  },
  {
   "cell_type": "markdown",
   "id": "6fbb1ad1",
   "metadata": {},
   "source": [
    "### Importing packages and Data Preparation"
   ]
  },
  {
   "cell_type": "markdown",
   "id": "07ba1b98",
   "metadata": {},
   "source": [
    "In this study, we will use a housing dataset presented by De Cock (2011). This dataset describes the sales of residential units in Ames, Iowa starting from 2006 until 2010. The dataset contains a large number of variables that are involved in determining a house price. The dataset contains 2930 records (rows) and 82 features (columns). "
   ]
  },
  {
   "cell_type": "markdown",
   "id": "40fc0032",
   "metadata": {},
   "source": [
    "The dataset contains 2930 records (rows) and 82 features (columns)."
   ]
  },
  {
   "cell_type": "code",
   "execution_count": 2,
   "id": "9d7d13d7",
   "metadata": {},
   "outputs": [],
   "source": [
    "import pandas as pd\n",
    "import numpy as np \n",
    "from matplotlib import pyplot as plt\n",
    "%matplotlib inline\n",
    "import seaborn as sns\n",
    "from sklearn.preprocessing import StandardScaler\n",
    "from sklearn.model_selection import train_test_split\n",
    "import warnings\n",
    "warnings.filterwarnings(\"ignore\")"
   ]
  },
  {
   "cell_type": "code",
   "execution_count": null,
   "id": "26167a28",
   "metadata": {},
   "outputs": [],
   "source": [
    "dataset = "
   ]
  }
 ],
 "metadata": {
  "kernelspec": {
   "display_name": "Python 3 (ipykernel)",
   "language": "python",
   "name": "python3"
  },
  "language_info": {
   "codemirror_mode": {
    "name": "ipython",
    "version": 3
   },
   "file_extension": ".py",
   "mimetype": "text/x-python",
   "name": "python",
   "nbconvert_exporter": "python",
   "pygments_lexer": "ipython3",
   "version": "3.9.12"
  }
 },
 "nbformat": 4,
 "nbformat_minor": 5
}
