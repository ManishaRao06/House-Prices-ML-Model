{
 "cells": [
  {
   "cell_type": "code",
   "execution_count": 1,
   "id": "a3875724",
   "metadata": {},
   "outputs": [],
   "source": [
    "import pandas as pd\n",
    "import numpy as np \n",
    "from matplotlib import pyplot as plt\n",
    "%matplotlib inline\n",
    "from math import sqrt\n",
    "from pylab import rcParams\n",
    "import seaborn as sns\n",
    "from sklearn.preprocessing import StandardScaler\n",
    "from sklearn.model_selection import train_test_split\n",
    "import warnings\n",
    "warnings.filterwarnings(\"ignore\")\n",
    "\n",
    "\n",
    "from sklearn import metrics\n",
    "from sklearn.metrics import mean_squared_error\n",
    "from sklearn import linear_model\n",
    "from sklearn.model_selection import train_test_split\n",
    "from sklearn.preprocessing import MinMaxScaler\n",
    "from sklearn.model_selection import cross_val_score\n",
    "from sklearn.model_selection import GridSearchCV\n",
    "\n",
    "import sklearn\n",
    "from sklearn.linear_model import LinearRegression\n",
    "from sklearn.linear_model import ElasticNet, Lasso\n",
    "from sklearn.svm import SVR\n",
    "from sklearn.ensemble import RandomForestRegressor, GradientBoostingRegressor\n",
    "from sklearn.kernel_ridge import KernelRidge\n",
    "\n",
    "from sklearn.ensemble import StackingRegressor\n",
    "\n",
    "from sklearn.pipeline import make_pipeline\n",
    "from sklearn.preprocessing import RobustScaler\n",
    "from sklearn.model_selection import KFold, cross_val_score, train_test_split\n",
    "from sklearn.metrics import mean_squared_error\n",
    "from sklearn.metrics import accuracy_score\n",
    "from sklearn.preprocessing import StandardScaler\n",
    "\n",
    "%matplotlib inline\n",
    "import matplotlib as mpl\n",
    "import matplotlib.pyplot as plt\n",
    "from matplotlib.colors import ListedColormap"
   ]
  },
  {
   "cell_type": "code",
   "execution_count": 2,
   "id": "c2d30e6f",
   "metadata": {},
   "outputs": [
    {
     "name": "stdout",
     "output_type": "stream",
     "text": [
      "(1460, 80)\n",
      "(1459, 79)\n"
     ]
    }
   ],
   "source": [
    "train_data = pd.read_csv('train.csv', index_col='Id')\n",
    "test_data = pd.read_csv('test.csv', index_col='Id')\n",
    "\n",
    "\n",
    "# check shape\n",
    "print(train_data.shape)\n",
    "print(test_data.shape)"
   ]
  },
  {
   "cell_type": "code",
   "execution_count": 3,
   "id": "35c9e76c",
   "metadata": {},
   "outputs": [
    {
     "data": {
      "text/plain": [
       "Index(['MSSubClass', 'MSZoning', 'LotFrontage', 'LotArea', 'Street', 'Alley',\n",
       "       'LotShape', 'LandContour', 'Utilities', 'LotConfig', 'LandSlope',\n",
       "       'Neighborhood', 'Condition1', 'Condition2', 'BldgType', 'HouseStyle',\n",
       "       'OverallQual', 'OverallCond', 'YearBuilt', 'YearRemodAdd', 'RoofStyle',\n",
       "       'RoofMatl', 'Exterior1st', 'Exterior2nd', 'MasVnrType', 'MasVnrArea',\n",
       "       'ExterQual', 'ExterCond', 'Foundation', 'BsmtQual', 'BsmtCond',\n",
       "       'BsmtExposure', 'BsmtFinType1', 'BsmtFinSF1', 'BsmtFinType2',\n",
       "       'BsmtFinSF2', 'BsmtUnfSF', 'TotalBsmtSF', 'Heating', 'HeatingQC',\n",
       "       'CentralAir', 'Electrical', '1stFlrSF', '2ndFlrSF', 'LowQualFinSF',\n",
       "       'GrLivArea', 'BsmtFullBath', 'BsmtHalfBath', 'FullBath', 'HalfBath',\n",
       "       'BedroomAbvGr', 'KitchenAbvGr', 'KitchenQual', 'TotRmsAbvGrd',\n",
       "       'Functional', 'Fireplaces', 'FireplaceQu', 'GarageType', 'GarageYrBlt',\n",
       "       'GarageFinish', 'GarageCars', 'GarageArea', 'GarageQual', 'GarageCond',\n",
       "       'PavedDrive', 'WoodDeckSF', 'OpenPorchSF', 'EnclosedPorch', '3SsnPorch',\n",
       "       'ScreenPorch', 'PoolArea', 'PoolQC', 'Fence', 'MiscFeature', 'MiscVal',\n",
       "       'MoSold', 'YrSold', 'SaleType', 'SaleCondition', 'SalePrice'],\n",
       "      dtype='object')"
      ]
     },
     "execution_count": 3,
     "metadata": {},
     "output_type": "execute_result"
    }
   ],
   "source": [
    "train_data.columns"
   ]
  },
  {
   "cell_type": "code",
   "execution_count": 4,
   "id": "7bec33c7",
   "metadata": {},
   "outputs": [
    {
     "data": {
      "text/html": [
       "<div>\n",
       "<style scoped>\n",
       "    .dataframe tbody tr th:only-of-type {\n",
       "        vertical-align: middle;\n",
       "    }\n",
       "\n",
       "    .dataframe tbody tr th {\n",
       "        vertical-align: top;\n",
       "    }\n",
       "\n",
       "    .dataframe thead th {\n",
       "        text-align: right;\n",
       "    }\n",
       "</style>\n",
       "<table border=\"1\" class=\"dataframe\">\n",
       "  <thead>\n",
       "    <tr style=\"text-align: right;\">\n",
       "      <th></th>\n",
       "      <th>MSSubClass</th>\n",
       "      <th>LotFrontage</th>\n",
       "      <th>LotArea</th>\n",
       "      <th>OverallQual</th>\n",
       "      <th>OverallCond</th>\n",
       "      <th>YearBuilt</th>\n",
       "      <th>YearRemodAdd</th>\n",
       "      <th>MasVnrArea</th>\n",
       "      <th>BsmtFinSF1</th>\n",
       "      <th>BsmtFinSF2</th>\n",
       "      <th>...</th>\n",
       "      <th>WoodDeckSF</th>\n",
       "      <th>OpenPorchSF</th>\n",
       "      <th>EnclosedPorch</th>\n",
       "      <th>3SsnPorch</th>\n",
       "      <th>ScreenPorch</th>\n",
       "      <th>PoolArea</th>\n",
       "      <th>MiscVal</th>\n",
       "      <th>MoSold</th>\n",
       "      <th>YrSold</th>\n",
       "      <th>SalePrice</th>\n",
       "    </tr>\n",
       "  </thead>\n",
       "  <tbody>\n",
       "    <tr>\n",
       "      <th>count</th>\n",
       "      <td>1460.000000</td>\n",
       "      <td>1201.000000</td>\n",
       "      <td>1460.000000</td>\n",
       "      <td>1460.000000</td>\n",
       "      <td>1460.000000</td>\n",
       "      <td>1460.000000</td>\n",
       "      <td>1460.000000</td>\n",
       "      <td>1452.000000</td>\n",
       "      <td>1460.000000</td>\n",
       "      <td>1460.000000</td>\n",
       "      <td>...</td>\n",
       "      <td>1460.000000</td>\n",
       "      <td>1460.000000</td>\n",
       "      <td>1460.000000</td>\n",
       "      <td>1460.000000</td>\n",
       "      <td>1460.000000</td>\n",
       "      <td>1460.000000</td>\n",
       "      <td>1460.000000</td>\n",
       "      <td>1460.000000</td>\n",
       "      <td>1460.000000</td>\n",
       "      <td>1460.000000</td>\n",
       "    </tr>\n",
       "    <tr>\n",
       "      <th>mean</th>\n",
       "      <td>56.897260</td>\n",
       "      <td>70.049958</td>\n",
       "      <td>10516.828082</td>\n",
       "      <td>6.099315</td>\n",
       "      <td>5.575342</td>\n",
       "      <td>1971.267808</td>\n",
       "      <td>1984.865753</td>\n",
       "      <td>103.685262</td>\n",
       "      <td>443.639726</td>\n",
       "      <td>46.549315</td>\n",
       "      <td>...</td>\n",
       "      <td>94.244521</td>\n",
       "      <td>46.660274</td>\n",
       "      <td>21.954110</td>\n",
       "      <td>3.409589</td>\n",
       "      <td>15.060959</td>\n",
       "      <td>2.758904</td>\n",
       "      <td>43.489041</td>\n",
       "      <td>6.321918</td>\n",
       "      <td>2007.815753</td>\n",
       "      <td>180921.195890</td>\n",
       "    </tr>\n",
       "    <tr>\n",
       "      <th>std</th>\n",
       "      <td>42.300571</td>\n",
       "      <td>24.284752</td>\n",
       "      <td>9981.264932</td>\n",
       "      <td>1.382997</td>\n",
       "      <td>1.112799</td>\n",
       "      <td>30.202904</td>\n",
       "      <td>20.645407</td>\n",
       "      <td>181.066207</td>\n",
       "      <td>456.098091</td>\n",
       "      <td>161.319273</td>\n",
       "      <td>...</td>\n",
       "      <td>125.338794</td>\n",
       "      <td>66.256028</td>\n",
       "      <td>61.119149</td>\n",
       "      <td>29.317331</td>\n",
       "      <td>55.757415</td>\n",
       "      <td>40.177307</td>\n",
       "      <td>496.123024</td>\n",
       "      <td>2.703626</td>\n",
       "      <td>1.328095</td>\n",
       "      <td>79442.502883</td>\n",
       "    </tr>\n",
       "    <tr>\n",
       "      <th>min</th>\n",
       "      <td>20.000000</td>\n",
       "      <td>21.000000</td>\n",
       "      <td>1300.000000</td>\n",
       "      <td>1.000000</td>\n",
       "      <td>1.000000</td>\n",
       "      <td>1872.000000</td>\n",
       "      <td>1950.000000</td>\n",
       "      <td>0.000000</td>\n",
       "      <td>0.000000</td>\n",
       "      <td>0.000000</td>\n",
       "      <td>...</td>\n",
       "      <td>0.000000</td>\n",
       "      <td>0.000000</td>\n",
       "      <td>0.000000</td>\n",
       "      <td>0.000000</td>\n",
       "      <td>0.000000</td>\n",
       "      <td>0.000000</td>\n",
       "      <td>0.000000</td>\n",
       "      <td>1.000000</td>\n",
       "      <td>2006.000000</td>\n",
       "      <td>34900.000000</td>\n",
       "    </tr>\n",
       "    <tr>\n",
       "      <th>25%</th>\n",
       "      <td>20.000000</td>\n",
       "      <td>59.000000</td>\n",
       "      <td>7553.500000</td>\n",
       "      <td>5.000000</td>\n",
       "      <td>5.000000</td>\n",
       "      <td>1954.000000</td>\n",
       "      <td>1967.000000</td>\n",
       "      <td>0.000000</td>\n",
       "      <td>0.000000</td>\n",
       "      <td>0.000000</td>\n",
       "      <td>...</td>\n",
       "      <td>0.000000</td>\n",
       "      <td>0.000000</td>\n",
       "      <td>0.000000</td>\n",
       "      <td>0.000000</td>\n",
       "      <td>0.000000</td>\n",
       "      <td>0.000000</td>\n",
       "      <td>0.000000</td>\n",
       "      <td>5.000000</td>\n",
       "      <td>2007.000000</td>\n",
       "      <td>129975.000000</td>\n",
       "    </tr>\n",
       "    <tr>\n",
       "      <th>50%</th>\n",
       "      <td>50.000000</td>\n",
       "      <td>69.000000</td>\n",
       "      <td>9478.500000</td>\n",
       "      <td>6.000000</td>\n",
       "      <td>5.000000</td>\n",
       "      <td>1973.000000</td>\n",
       "      <td>1994.000000</td>\n",
       "      <td>0.000000</td>\n",
       "      <td>383.500000</td>\n",
       "      <td>0.000000</td>\n",
       "      <td>...</td>\n",
       "      <td>0.000000</td>\n",
       "      <td>25.000000</td>\n",
       "      <td>0.000000</td>\n",
       "      <td>0.000000</td>\n",
       "      <td>0.000000</td>\n",
       "      <td>0.000000</td>\n",
       "      <td>0.000000</td>\n",
       "      <td>6.000000</td>\n",
       "      <td>2008.000000</td>\n",
       "      <td>163000.000000</td>\n",
       "    </tr>\n",
       "    <tr>\n",
       "      <th>75%</th>\n",
       "      <td>70.000000</td>\n",
       "      <td>80.000000</td>\n",
       "      <td>11601.500000</td>\n",
       "      <td>7.000000</td>\n",
       "      <td>6.000000</td>\n",
       "      <td>2000.000000</td>\n",
       "      <td>2004.000000</td>\n",
       "      <td>166.000000</td>\n",
       "      <td>712.250000</td>\n",
       "      <td>0.000000</td>\n",
       "      <td>...</td>\n",
       "      <td>168.000000</td>\n",
       "      <td>68.000000</td>\n",
       "      <td>0.000000</td>\n",
       "      <td>0.000000</td>\n",
       "      <td>0.000000</td>\n",
       "      <td>0.000000</td>\n",
       "      <td>0.000000</td>\n",
       "      <td>8.000000</td>\n",
       "      <td>2009.000000</td>\n",
       "      <td>214000.000000</td>\n",
       "    </tr>\n",
       "    <tr>\n",
       "      <th>max</th>\n",
       "      <td>190.000000</td>\n",
       "      <td>313.000000</td>\n",
       "      <td>215245.000000</td>\n",
       "      <td>10.000000</td>\n",
       "      <td>9.000000</td>\n",
       "      <td>2010.000000</td>\n",
       "      <td>2010.000000</td>\n",
       "      <td>1600.000000</td>\n",
       "      <td>5644.000000</td>\n",
       "      <td>1474.000000</td>\n",
       "      <td>...</td>\n",
       "      <td>857.000000</td>\n",
       "      <td>547.000000</td>\n",
       "      <td>552.000000</td>\n",
       "      <td>508.000000</td>\n",
       "      <td>480.000000</td>\n",
       "      <td>738.000000</td>\n",
       "      <td>15500.000000</td>\n",
       "      <td>12.000000</td>\n",
       "      <td>2010.000000</td>\n",
       "      <td>755000.000000</td>\n",
       "    </tr>\n",
       "  </tbody>\n",
       "</table>\n",
       "<p>8 rows × 37 columns</p>\n",
       "</div>"
      ],
      "text/plain": [
       "        MSSubClass  LotFrontage        LotArea  OverallQual  OverallCond  \\\n",
       "count  1460.000000  1201.000000    1460.000000  1460.000000  1460.000000   \n",
       "mean     56.897260    70.049958   10516.828082     6.099315     5.575342   \n",
       "std      42.300571    24.284752    9981.264932     1.382997     1.112799   \n",
       "min      20.000000    21.000000    1300.000000     1.000000     1.000000   \n",
       "25%      20.000000    59.000000    7553.500000     5.000000     5.000000   \n",
       "50%      50.000000    69.000000    9478.500000     6.000000     5.000000   \n",
       "75%      70.000000    80.000000   11601.500000     7.000000     6.000000   \n",
       "max     190.000000   313.000000  215245.000000    10.000000     9.000000   \n",
       "\n",
       "         YearBuilt  YearRemodAdd   MasVnrArea   BsmtFinSF1   BsmtFinSF2  ...  \\\n",
       "count  1460.000000   1460.000000  1452.000000  1460.000000  1460.000000  ...   \n",
       "mean   1971.267808   1984.865753   103.685262   443.639726    46.549315  ...   \n",
       "std      30.202904     20.645407   181.066207   456.098091   161.319273  ...   \n",
       "min    1872.000000   1950.000000     0.000000     0.000000     0.000000  ...   \n",
       "25%    1954.000000   1967.000000     0.000000     0.000000     0.000000  ...   \n",
       "50%    1973.000000   1994.000000     0.000000   383.500000     0.000000  ...   \n",
       "75%    2000.000000   2004.000000   166.000000   712.250000     0.000000  ...   \n",
       "max    2010.000000   2010.000000  1600.000000  5644.000000  1474.000000  ...   \n",
       "\n",
       "        WoodDeckSF  OpenPorchSF  EnclosedPorch    3SsnPorch  ScreenPorch  \\\n",
       "count  1460.000000  1460.000000    1460.000000  1460.000000  1460.000000   \n",
       "mean     94.244521    46.660274      21.954110     3.409589    15.060959   \n",
       "std     125.338794    66.256028      61.119149    29.317331    55.757415   \n",
       "min       0.000000     0.000000       0.000000     0.000000     0.000000   \n",
       "25%       0.000000     0.000000       0.000000     0.000000     0.000000   \n",
       "50%       0.000000    25.000000       0.000000     0.000000     0.000000   \n",
       "75%     168.000000    68.000000       0.000000     0.000000     0.000000   \n",
       "max     857.000000   547.000000     552.000000   508.000000   480.000000   \n",
       "\n",
       "          PoolArea       MiscVal       MoSold       YrSold      SalePrice  \n",
       "count  1460.000000   1460.000000  1460.000000  1460.000000    1460.000000  \n",
       "mean      2.758904     43.489041     6.321918  2007.815753  180921.195890  \n",
       "std      40.177307    496.123024     2.703626     1.328095   79442.502883  \n",
       "min       0.000000      0.000000     1.000000  2006.000000   34900.000000  \n",
       "25%       0.000000      0.000000     5.000000  2007.000000  129975.000000  \n",
       "50%       0.000000      0.000000     6.000000  2008.000000  163000.000000  \n",
       "75%       0.000000      0.000000     8.000000  2009.000000  214000.000000  \n",
       "max     738.000000  15500.000000    12.000000  2010.000000  755000.000000  \n",
       "\n",
       "[8 rows x 37 columns]"
      ]
     },
     "execution_count": 4,
     "metadata": {},
     "output_type": "execute_result"
    }
   ],
   "source": [
    "train_data.describe()"
   ]
  },
  {
   "cell_type": "code",
   "execution_count": 5,
   "id": "171cec4d",
   "metadata": {},
   "outputs": [
    {
     "data": {
      "text/plain": [
       "Text(133.44000000000005, 0.5, 'Features')"
      ]
     },
     "execution_count": 5,
     "metadata": {},
     "output_type": "execute_result"
    },
    {
     "data": {
      "image/png": "[encoded data removed]",
      "text/plain": [
       "<Figure size 864x648 with 2 Axes>"
      ]
     },
     "metadata": {
      "needs_background": "light"
     },
     "output_type": "display_data"
    }
   ],
   "source": [
    "#correlation matrix\n",
    "corr_mat = train_data.corr()\n",
    "f, ax = plt.subplots(figsize=(12, 9))\n",
    "\n",
    "sns.heatmap(corr_mat, vmax=.8,square=True)\n",
    "\n",
    "plt.suptitle(\"Correlatation Feature HeatMap\")\n",
    "plt.xlabel(\"Features\")\n",
    "plt.ylabel(\"Features\")"
   ]
  },
  {
   "cell_type": "code",
   "execution_count": 6,
   "id": "43563e93",
   "metadata": {},
   "outputs": [
    {
     "name": "stdout",
     "output_type": "stream",
     "text": [
      "Correlation Values\n",
      "OverallQual      0.790982\n",
      "GrLivArea        0.708624\n",
      "GarageCars       0.640409\n",
      "GarageArea       0.623431\n",
      "TotalBsmtSF      0.613581\n",
      "1stFlrSF         0.605852\n",
      "FullBath         0.560664\n",
      "TotRmsAbvGrd     0.533723\n",
      "YearBuilt        0.522897\n",
      "YearRemodAdd     0.507101\n",
      "GarageYrBlt      0.486362\n",
      "MasVnrArea       0.477493\n",
      "Fireplaces       0.466929\n",
      "BsmtFinSF1       0.386420\n",
      "LotFrontage      0.351799\n",
      "WoodDeckSF       0.324413\n",
      "2ndFlrSF         0.319334\n",
      "OpenPorchSF      0.315856\n",
      "HalfBath         0.284108\n",
      "LotArea          0.263843\n",
      "BsmtFullBath     0.227122\n",
      "BsmtUnfSF        0.214479\n",
      "BedroomAbvGr     0.168213\n",
      "ScreenPorch      0.111447\n",
      "PoolArea         0.092404\n",
      "MoSold           0.046432\n",
      "3SsnPorch        0.044584\n",
      "BsmtFinSF2      -0.011378\n",
      "BsmtHalfBath    -0.016844\n",
      "MiscVal         -0.021190\n",
      "LowQualFinSF    -0.025606\n",
      "YrSold          -0.028923\n",
      "OverallCond     -0.077856\n",
      "MSSubClass      -0.084284\n",
      "EnclosedPorch   -0.128578\n",
      "KitchenAbvGr    -0.135907\n",
      "Name: SalePrice, dtype: float64\n"
     ]
    }
   ],
   "source": [
    "print(\"Correlation Values\")\n",
    "\n",
    "corr = train_data.corr().drop('SalePrice')\n",
    "corr.sort_values([\"SalePrice\"], ascending = False, inplace = True)\n",
    "print(corr.SalePrice)"
   ]
  },
  {
   "cell_type": "markdown",
   "id": "9d44b5e9",
   "metadata": {},
   "source": [
    "# HANDLING DATA"
   ]
  },
  {
   "cell_type": "code",
   "execution_count": 10,
   "id": "83af699c",
   "metadata": {},
   "outputs": [
    {
     "data": {
      "text/plain": [
       "<Figure size 864x864 with 0 Axes>"
      ]
     },
     "metadata": {},
     "output_type": "display_data"
    }
   ],
   "source": [
    "sns.set_style('whitegrid')\n",
    "edgecolor = 'black'\n",
    "\n",
    "fig = plt.figure(figsize=(12,12))\n",
    "\n",
    "#function to plot scatter plot between a feature and the Sale Price \n",
    "def scatter_plot(a):\n",
    "    fig, ax = plt.subplots()\n",
    "    ax.scatter(x = train_data[a], y = train_data['SalePrice'], edgecolor=edgecolor)\n",
    "    plt.ylabel('SalePrice', fontsize=12)\n",
    "    plt.xlabel(a, fontsize=12)\n",
    "    plt.suptitle(\"Scatter Plot of \"+ a + \" and SalePrice\")\n",
    "    plt.show()"
   ]
  },
  {
   "cell_type": "code",
   "execution_count": 11,
   "id": "424eddf4",
   "metadata": {},
   "outputs": [
    {
     "data": {
      "image/png": "[encoded data removed]",
      "text/plain": [
       "<Figure size 432x288 with 1 Axes>"
      ]
     },
     "metadata": {},
     "output_type": "display_data"
    }
   ],
   "source": [
    "scatter_plot('GrLivArea')"
   ]
  },
  {
   "cell_type": "code",
   "execution_count": 15,
   "id": "37fba2f0",
   "metadata": {},
   "outputs": [
    {
     "data": {
      "image/png": "[encoded data removed]",
      "text/plain": [
       "<Figure size 432x288 with 1 Axes>"
      ]
     },
     "metadata": {},
     "output_type": "display_data"
    }
   ],
   "source": [
    "#DELETING OUTLIERS\n",
    "train_data =  train_data.drop( train_data[( train_data['GrLivArea'] > 4000) & ( train_data['SalePrice']<300000)].index)\n",
    "\n",
    "#Check the graphic again\n",
    "scatter_plot('GrLivArea')"
   ]
  },
  {
   "cell_type": "code",
   "execution_count": 14,
   "id": "1564428c",
   "metadata": {},
   "outputs": [
    {
     "data": {
      "image/png": "[encoded data removed]",
      "text/plain": [
       "<Figure size 432x288 with 1 Axes>"
      ]
     },
     "metadata": {},
     "output_type": "display_data"
    }
   ],
   "source": [
    "#Deleting outliers\n",
    "train_data =  train_data.drop( train_data[( train_data['EnclosedPorch']>400)].index)\n",
    "\n",
    "#Deleting outliers\n",
    "train_data =  train_data.drop( train_data[( train_data['SalePrice']>700000)].index)\n",
    "\n",
    "#check plot again\n",
    "scatter_plot('EnclosedPorch')"
   ]
  },
  {
   "cell_type": "markdown",
   "id": "2de9bb26",
   "metadata": {},
   "source": [
    "# log transformation of Sale Price"
   ]
  },
  {
   "cell_type": "code",
   "execution_count": 16,
   "id": "49fe7d96",
   "metadata": {},
   "outputs": [
    {
     "data": {
      "image/png": "[encoded data removed]",
      "text/plain": [
       "<Figure size 576x432 with 1 Axes>"
      ]
     },
     "metadata": {},
     "output_type": "display_data"
    }
   ],
   "source": [
    "plt.figure(figsize=(8,6))\n",
    "sns.distplot(train_data['SalePrice'])\n",
    "title = plt.title(\"House Price Distribution\")"
   ]
  },
  {
   "cell_type": "code",
   "execution_count": 20,
   "id": "fc0511dd",
   "metadata": {},
   "outputs": [
    {
     "data": {
      "image/png": "[encoded data removed]",
      "text/plain": [
       "<Figure size 432x288 with 1 Axes>"
      ]
     },
     "metadata": {},
     "output_type": "display_data"
    }
   ],
   "source": [
    "train_data['SalePrice'] = np.log(train_data['SalePrice'])\n",
    "plt.suptitle(\"Plot of Sale Price after log transformation\")\n",
    "sns.distplot(train_data['SalePrice'])\n",
    "plt.show()"
   ]
  },
  {
   "cell_type": "markdown",
   "id": "a9dbaef6",
   "metadata": {},
   "source": [
    "# MISSING DATA"
   ]
  },
  {
   "cell_type": "code",
   "execution_count": 21,
   "id": "b3d5ea9d",
   "metadata": {},
   "outputs": [],
   "source": [
    "#function to see the missing data in a dataframe\n",
    "def missing_data(df,n):    \n",
    "    total = df.isnull().sum().sort_values(ascending=False)          # Total No of missing values\n",
    "    percentage = (df.isnull().sum() / df.isnull().count()).sort_values(ascending=False)*100  # % of Missing values\n",
    "    No_unique_val = df.nunique()                                   # No of unique values\n",
    "    missing_data = pd.concat([total, percentage, No_unique_val], axis=1, \n",
    "                             keys=['Total No of missing val', '% of Missing val','No of unique val'], sort = False)\n",
    "    \n",
    "    print(missing_data.head(n))\n",
    "    \n",
    "    "
   ]
  },
  {
   "cell_type": "code",
   "execution_count": 22,
   "id": "6495a942",
   "metadata": {},
   "outputs": [
    {
     "name": "stdout",
     "output_type": "stream",
     "text": [
      "              Total No of missing val  % of Missing val  No of unique val\n",
      "PoolQC                           1451         99.725086                 2\n",
      "MiscFeature                      1401         96.288660                 4\n",
      "Alley                            1364         93.745704                 2\n",
      "Fence                            1176         80.824742                 4\n",
      "FireplaceQu                       690         47.422680                 5\n",
      "LotFrontage                       259         17.800687               109\n",
      "GarageYrBlt                        81          5.567010                97\n",
      "GarageCond                         81          5.567010                 5\n",
      "GarageType                         81          5.567010                 6\n",
      "GarageFinish                       81          5.567010                 3\n",
      "GarageQual                         81          5.567010                 5\n",
      "BsmtExposure                       38          2.611684                 4\n",
      "BsmtFinType2                       38          2.611684                 6\n",
      "BsmtCond                           37          2.542955                 4\n",
      "BsmtQual                           37          2.542955                 4\n",
      "BsmtFinType1                       37          2.542955                 6\n",
      "MasVnrArea                          8          0.549828               324\n",
      "MasVnrType                          8          0.549828                 4\n",
      "Electrical                          1          0.068729                 5\n",
      "MSSubClass                          0          0.000000                15\n"
     ]
    }
   ],
   "source": [
    "#training data    \n",
    "missing_data(train_data,20)"
   ]
  },
  {
   "cell_type": "code",
   "execution_count": null,
   "id": "c02aa1d6",
   "metadata": {},
   "outputs": [],
   "source": [
    "train_data['PoolQC'].unique()"
   ]
  },
  {
   "cell_type": "code",
   "execution_count": 23,
   "id": "54130b75",
   "metadata": {},
   "outputs": [
    {
     "name": "stdout",
     "output_type": "stream",
     "text": [
      "              Total No of missing val  % of Missing val  No of unique val\n",
      "PoolQC                           1456         99.794380                 2\n",
      "MiscFeature                      1408         96.504455                 3\n",
      "Alley                            1352         92.666210                 2\n",
      "Fence                            1169         80.123372                 4\n",
      "FireplaceQu                       730         50.034270                 5\n",
      "LotFrontage                       227         15.558602               115\n",
      "GarageYrBlt                        78          5.346127                97\n",
      "GarageFinish                       78          5.346127                 3\n",
      "GarageQual                         78          5.346127                 4\n",
      "GarageCond                         78          5.346127                 5\n",
      "GarageType                         76          5.209047                 6\n",
      "BsmtCond                           45          3.084304                 4\n",
      "BsmtExposure                       44          3.015764                 4\n",
      "BsmtQual                           44          3.015764                 4\n",
      "BsmtFinType2                       42          2.878684                 6\n",
      "BsmtFinType1                       42          2.878684                 6\n",
      "MasVnrType                         16          1.096642                 4\n",
      "MasVnrArea                         15          1.028101               303\n",
      "MSZoning                            4          0.274160                 5\n",
      "Functional                          2          0.137080                 7\n",
      "BsmtHalfBath                        2          0.137080                 3\n",
      "BsmtFullBath                        2          0.137080                 4\n",
      "Utilities                           2          0.137080                 1\n",
      "KitchenQual                         1          0.068540                 4\n",
      "SaleType                            1          0.068540                 9\n",
      "BsmtFinSF1                          1          0.068540               669\n",
      "GarageCars                          1          0.068540                 6\n",
      "BsmtUnfSF                           1          0.068540               793\n",
      "TotalBsmtSF                         1          0.068540               736\n",
      "Exterior2nd                         1          0.068540                15\n",
      "Exterior1st                         1          0.068540                13\n",
      "GarageArea                          1          0.068540               459\n",
      "BsmtFinSF2                          1          0.068540               161\n",
      "TotRmsAbvGrd                        0          0.000000                12\n"
     ]
    }
   ],
   "source": [
    "#test data \n",
    "missing_data(test_data,34)"
   ]
  },
  {
   "cell_type": "code",
   "execution_count": 25,
   "id": "54ff3bc2",
   "metadata": {},
   "outputs": [
    {
     "name": "stdout",
     "output_type": "stream",
     "text": [
      "6950\n",
      "7000\n"
     ]
    }
   ],
   "source": [
    "# calculate total number of null values in training data\n",
    "null_train = train_data.isnull().sum().sum()\n",
    "print(null_train)\n",
    "\n",
    "# calculate total number of null values in test data\n",
    "null_test = test_data.isnull().sum().sum()\n",
    "print(null_test)"
   ]
  },
  {
   "cell_type": "code",
   "execution_count": 26,
   "id": "5b5d1c9d",
   "metadata": {},
   "outputs": [],
   "source": [
    "train_label = train_data['SalePrice'].reset_index(drop=True)\n",
    "\n",
    "# # drop 'SalePrice' column from df_train \n",
    "train_data = train_data.drop(['SalePrice'], axis=1)\n",
    "# # now df_train contains all training features"
   ]
  },
  {
   "cell_type": "code",
   "execution_count": 31,
   "id": "ab3a990f",
   "metadata": {},
   "outputs": [],
   "source": [
    "def missing (df):\n",
    "    \n",
    "    # drop theses columns due to large null values or many same values\n",
    "    #df = df.drop(['Utilities','PoolQC','MiscFeature','Alley'], axis=1)\n",
    "    \n",
    "    # Null value likely means No Fence so fill as \"None\"\n",
    "    df[\"Fence\"] = df[\"Fence\"].fillna(\"None\") \n",
    "    \n",
    "    # Null value likely means No Fireplace so fill as \"None\"\n",
    "    df[\"FireplaceQu\"] = df[\"FireplaceQu\"].fillna(\"None\")\n",
    "    \n",
    "    # Lot frontage is the feet of street connected to property, which is likely similar to the neighbourhood houses, so fill Median value\n",
    "    df[\"LotFrontage\"] = df[\"LotFrontage\"].fillna(df[\"LotFrontage\"].median())\n",
    "    \n",
    "    # Null value likely means  typical(Typ)\n",
    "    df[\"Functional\"] = df[\"Functional\"].fillna(\"Typ\")\n",
    "    \n",
    "    # Only one null value so fill as the most frequent value(mode)\n",
    "    df['KitchenQual'] = df['KitchenQual'].fillna(df['KitchenQual'].mode()[0])  \n",
    "    \n",
    "    # Only one null value so fill as the most frequent value(mode)\n",
    "    df['Electrical'] = df['Electrical'].fillna(df['Electrical'].mode()[0])\n",
    "    \n",
    "    # Very few null value so fill with the most frequent value(mode)\n",
    "    df['SaleType'] = df['SaleType'].fillna(df['SaleType'].mode()[0])\n",
    "    \n",
    "    # Null value likely means no masonry veneer\n",
    "    df[\"MasVnrType\"] = df[\"MasVnrType\"].fillna(\"None\") #so fill as \"None\" (since categorical feature)\n",
    "    df[\"MasVnrArea\"] = df[\"MasVnrArea\"].fillna(0)      #so fill as o\n",
    "    \n",
    "    # Only one null value so fill as the most frequent value(mode)\n",
    "    df['Exterior1st'] = df['Exterior1st'].fillna(df['Exterior1st'].mode()[0])\n",
    "    df['Exterior2nd'] = df['Exterior2nd'].fillna(df['Exterior2nd'].mode()[0])\n",
    "    \n",
    "    #MSZoning is general zoning classification,Very few null value so fill with the most frequent value(mode)\n",
    "    df['MSZoning'] = df['MSZoning'].fillna(df['MSZoning'].mode()[0])\n",
    "    \n",
    "    #Null value likely means no Identified type of dwelling so fill as \"None\"\n",
    "    df['MSSubClass'] = df['MSSubClass'].fillna(\"None\")\n",
    "    \n",
    "    # Null value likely means No Garage, so fill as \"None\" (since these are categorical features)\n",
    "    for col in ('GarageType', 'GarageFinish', 'GarageQual', 'GarageCond'):\n",
    "        df[col] = df[col].fillna('None')\n",
    "    \n",
    "    # Null value likely means No Garage and no cars in garage, so fill as 0\n",
    "    for col in ('GarageYrBlt', 'GarageArea', 'GarageCars'):\n",
    "        df[col] = df[col].fillna(0)\n",
    "    \n",
    "    # Null value likely means No Basement, so fill as 0\n",
    "    for col in ('BsmtFinSF1', 'BsmtFinSF2', 'BsmtUnfSF','TotalBsmtSF', 'BsmtFullBath', 'BsmtHalfBath'):\n",
    "        df[col] = df[col].fillna(0)\n",
    "    \n",
    "    # Null value likely means No Basement, so fill as \"None\" (since these are categorical features)\n",
    "    for col in ('BsmtQual', 'BsmtCond', 'BsmtExposure', 'BsmtFinType1', 'BsmtFinType2'):\n",
    "        df[col] = df[col].fillna('None')\n",
    "    \n",
    "    return df"
   ]
  },
  {
   "cell_type": "code",
   "execution_count": 33,
   "id": "8c45ad19",
   "metadata": {},
   "outputs": [],
   "source": [
    "train_data = missing(train_data)\n",
    "test_data = missing(test_data)"
   ]
  },
  {
   "cell_type": "code",
   "execution_count": 34,
   "id": "ad9fa0c2",
   "metadata": {},
   "outputs": [
    {
     "name": "stdout",
     "output_type": "stream",
     "text": [
      "0\n",
      "0\n"
     ]
    }
   ],
   "source": [
    "# calculate total number of null values in training data\n",
    "null_train = train_data.isnull().sum().sum()\n",
    "print(null_train)\n",
    "\n",
    "# calculate total number of null values in test data\n",
    "null_test = test_data.isnull().sum().sum()\n",
    "print(null_test)"
   ]
  },
  {
   "cell_type": "code",
   "execution_count": 35,
   "id": "7413c74c",
   "metadata": {},
   "outputs": [],
   "source": [
    "def add_new_cols(df):\n",
    "    \n",
    "    df['Total_SF'] = df['TotalBsmtSF'] + df['1stFlrSF'] + df['2ndFlrSF']\n",
    "\n",
    "    df['Total_Bathrooms'] = (df['FullBath'] + (0.5 * df['HalfBath']) + df['BsmtFullBath'] \n",
    "                             + (0.5 * df['BsmtHalfBath']))\n",
    "\n",
    "    df['Total_Porch_SF'] = (df['OpenPorchSF'] + df['3SsnPorch'] + df['EnclosedPorch'] + \n",
    "                            df['ScreenPorch'] + df['WoodDeckSF'])\n",
    "\n",
    "    df['Total_Square_Feet'] = (df['BsmtFinSF1'] + df['BsmtFinSF2'] + df['1stFlrSF'] + df['2ndFlrSF'])\n",
    "    \n",
    "    df['Total_Quality'] = df['OverallQual'] + df['OverallCond']\n",
    "    \n",
    "    return df"
   ]
  },
  {
   "cell_type": "code",
   "execution_count": 36,
   "id": "3a63b40c",
   "metadata": {},
   "outputs": [],
   "source": [
    "# add the new columns\n",
    "train_data  = add_new_cols(train_data )\n",
    "test_data = add_new_cols(test_data)"
   ]
  },
  {
   "cell_type": "code",
   "execution_count": 37,
   "id": "280d9e51",
   "metadata": {},
   "outputs": [
    {
     "data": {
      "text/plain": [
       "((1455, 80), (1459, 80))"
      ]
     },
     "execution_count": 37,
     "metadata": {},
     "output_type": "execute_result"
    }
   ],
   "source": [
    "train_data.shape,test_data.shape"
   ]
  },
  {
   "cell_type": "code",
   "execution_count": 39,
   "id": "440bb96e",
   "metadata": {},
   "outputs": [
    {
     "name": "stdout",
     "output_type": "stream",
     "text": [
      "(1455, 292)\n",
      "(1459, 278)\n"
     ]
    }
   ],
   "source": [
    "#get dummy values for categorical data\n",
    "train_data = pd.get_dummies(train_data )\n",
    "test_data = pd.get_dummies(test_data)\n",
    "\n",
    "print(train_data.shape)\n",
    "print(test_data.shape)"
   ]
  },
  {
   "cell_type": "code",
   "execution_count": 40,
   "id": "4e9ff65b",
   "metadata": {},
   "outputs": [],
   "source": [
    "#align the training and testing data\n",
    "train_data, test_data = train_data.align(test_data, join = 'inner', axis=1)"
   ]
  },
  {
   "cell_type": "code",
   "execution_count": 41,
   "id": "7136dad0",
   "metadata": {},
   "outputs": [
    {
     "name": "stdout",
     "output_type": "stream",
     "text": [
      "0\n",
      "0\n"
     ]
    }
   ],
   "source": [
    "# calculate total number of null values in training data\n",
    "null_train = train_data.isnull().sum().sum()\n",
    "print(null_train)\n",
    "\n",
    "# calculate total number of null values in test data\n",
    "null_test = test_data.isnull().sum().sum()\n",
    "print(null_test)"
   ]
  },
  {
   "cell_type": "code",
   "execution_count": 42,
   "id": "31b6e62a",
   "metadata": {},
   "outputs": [],
   "source": [
    "X_test = test_data          # testing features"
   ]
  },
  {
   "cell_type": "code",
   "execution_count": 43,
   "id": "2e135ea1",
   "metadata": {},
   "outputs": [],
   "source": [
    "train_data[\"SalePrice\"] = train_label"
   ]
  },
  {
   "cell_type": "code",
   "execution_count": 44,
   "id": "7e473d30",
   "metadata": {},
   "outputs": [
    {
     "data": {
      "text/html": [
       "<div>\n",
       "<style scoped>\n",
       "    .dataframe tbody tr th:only-of-type {\n",
       "        vertical-align: middle;\n",
       "    }\n",
       "\n",
       "    .dataframe tbody tr th {\n",
       "        vertical-align: top;\n",
       "    }\n",
       "\n",
       "    .dataframe thead th {\n",
       "        text-align: right;\n",
       "    }\n",
       "</style>\n",
       "<table border=\"1\" class=\"dataframe\">\n",
       "  <thead>\n",
       "    <tr style=\"text-align: right;\">\n",
       "      <th></th>\n",
       "      <th>MSSubClass</th>\n",
       "      <th>LotFrontage</th>\n",
       "      <th>LotArea</th>\n",
       "      <th>OverallQual</th>\n",
       "      <th>OverallCond</th>\n",
       "      <th>YearBuilt</th>\n",
       "      <th>YearRemodAdd</th>\n",
       "      <th>MasVnrArea</th>\n",
       "      <th>BsmtFinSF1</th>\n",
       "      <th>BsmtFinSF2</th>\n",
       "      <th>...</th>\n",
       "      <th>SaleType_New</th>\n",
       "      <th>SaleType_Oth</th>\n",
       "      <th>SaleType_WD</th>\n",
       "      <th>SaleCondition_Abnorml</th>\n",
       "      <th>SaleCondition_AdjLand</th>\n",
       "      <th>SaleCondition_Alloca</th>\n",
       "      <th>SaleCondition_Family</th>\n",
       "      <th>SaleCondition_Normal</th>\n",
       "      <th>SaleCondition_Partial</th>\n",
       "      <th>SalePrice</th>\n",
       "    </tr>\n",
       "    <tr>\n",
       "      <th>Id</th>\n",
       "      <th></th>\n",
       "      <th></th>\n",
       "      <th></th>\n",
       "      <th></th>\n",
       "      <th></th>\n",
       "      <th></th>\n",
       "      <th></th>\n",
       "      <th></th>\n",
       "      <th></th>\n",
       "      <th></th>\n",
       "      <th></th>\n",
       "      <th></th>\n",
       "      <th></th>\n",
       "      <th></th>\n",
       "      <th></th>\n",
       "      <th></th>\n",
       "      <th></th>\n",
       "      <th></th>\n",
       "      <th></th>\n",
       "      <th></th>\n",
       "      <th></th>\n",
       "    </tr>\n",
       "  </thead>\n",
       "  <tbody>\n",
       "    <tr>\n",
       "      <th>1</th>\n",
       "      <td>60</td>\n",
       "      <td>65.0</td>\n",
       "      <td>8450</td>\n",
       "      <td>7</td>\n",
       "      <td>5</td>\n",
       "      <td>2003</td>\n",
       "      <td>2003</td>\n",
       "      <td>196.0</td>\n",
       "      <td>706</td>\n",
       "      <td>0</td>\n",
       "      <td>...</td>\n",
       "      <td>0</td>\n",
       "      <td>0</td>\n",
       "      <td>1</td>\n",
       "      <td>0</td>\n",
       "      <td>0</td>\n",
       "      <td>0</td>\n",
       "      <td>0</td>\n",
       "      <td>1</td>\n",
       "      <td>0</td>\n",
       "      <td>12.109011</td>\n",
       "    </tr>\n",
       "    <tr>\n",
       "      <th>2</th>\n",
       "      <td>20</td>\n",
       "      <td>80.0</td>\n",
       "      <td>9600</td>\n",
       "      <td>6</td>\n",
       "      <td>8</td>\n",
       "      <td>1976</td>\n",
       "      <td>1976</td>\n",
       "      <td>0.0</td>\n",
       "      <td>978</td>\n",
       "      <td>0</td>\n",
       "      <td>...</td>\n",
       "      <td>0</td>\n",
       "      <td>0</td>\n",
       "      <td>1</td>\n",
       "      <td>0</td>\n",
       "      <td>0</td>\n",
       "      <td>0</td>\n",
       "      <td>0</td>\n",
       "      <td>1</td>\n",
       "      <td>0</td>\n",
       "      <td>12.317167</td>\n",
       "    </tr>\n",
       "    <tr>\n",
       "      <th>3</th>\n",
       "      <td>60</td>\n",
       "      <td>68.0</td>\n",
       "      <td>11250</td>\n",
       "      <td>7</td>\n",
       "      <td>5</td>\n",
       "      <td>2001</td>\n",
       "      <td>2002</td>\n",
       "      <td>162.0</td>\n",
       "      <td>486</td>\n",
       "      <td>0</td>\n",
       "      <td>...</td>\n",
       "      <td>0</td>\n",
       "      <td>0</td>\n",
       "      <td>1</td>\n",
       "      <td>0</td>\n",
       "      <td>0</td>\n",
       "      <td>0</td>\n",
       "      <td>0</td>\n",
       "      <td>1</td>\n",
       "      <td>0</td>\n",
       "      <td>11.849398</td>\n",
       "    </tr>\n",
       "    <tr>\n",
       "      <th>4</th>\n",
       "      <td>70</td>\n",
       "      <td>60.0</td>\n",
       "      <td>9550</td>\n",
       "      <td>7</td>\n",
       "      <td>5</td>\n",
       "      <td>1915</td>\n",
       "      <td>1970</td>\n",
       "      <td>0.0</td>\n",
       "      <td>216</td>\n",
       "      <td>0</td>\n",
       "      <td>...</td>\n",
       "      <td>0</td>\n",
       "      <td>0</td>\n",
       "      <td>1</td>\n",
       "      <td>1</td>\n",
       "      <td>0</td>\n",
       "      <td>0</td>\n",
       "      <td>0</td>\n",
       "      <td>0</td>\n",
       "      <td>0</td>\n",
       "      <td>12.429216</td>\n",
       "    </tr>\n",
       "    <tr>\n",
       "      <th>5</th>\n",
       "      <td>60</td>\n",
       "      <td>84.0</td>\n",
       "      <td>14260</td>\n",
       "      <td>8</td>\n",
       "      <td>5</td>\n",
       "      <td>2000</td>\n",
       "      <td>2000</td>\n",
       "      <td>350.0</td>\n",
       "      <td>655</td>\n",
       "      <td>0</td>\n",
       "      <td>...</td>\n",
       "      <td>0</td>\n",
       "      <td>0</td>\n",
       "      <td>1</td>\n",
       "      <td>0</td>\n",
       "      <td>0</td>\n",
       "      <td>0</td>\n",
       "      <td>0</td>\n",
       "      <td>1</td>\n",
       "      <td>0</td>\n",
       "      <td>11.870600</td>\n",
       "    </tr>\n",
       "  </tbody>\n",
       "</table>\n",
       "<p>5 rows × 279 columns</p>\n",
       "</div>"
      ],
      "text/plain": [
       "    MSSubClass  LotFrontage  LotArea  OverallQual  OverallCond  YearBuilt  \\\n",
       "Id                                                                          \n",
       "1           60         65.0     8450            7            5       2003   \n",
       "2           20         80.0     9600            6            8       1976   \n",
       "3           60         68.0    11250            7            5       2001   \n",
       "4           70         60.0     9550            7            5       1915   \n",
       "5           60         84.0    14260            8            5       2000   \n",
       "\n",
       "    YearRemodAdd  MasVnrArea  BsmtFinSF1  BsmtFinSF2  ...  SaleType_New  \\\n",
       "Id                                                    ...                 \n",
       "1           2003       196.0         706           0  ...             0   \n",
       "2           1976         0.0         978           0  ...             0   \n",
       "3           2002       162.0         486           0  ...             0   \n",
       "4           1970         0.0         216           0  ...             0   \n",
       "5           2000       350.0         655           0  ...             0   \n",
       "\n",
       "    SaleType_Oth  SaleType_WD  SaleCondition_Abnorml  SaleCondition_AdjLand  \\\n",
       "Id                                                                            \n",
       "1              0            1                      0                      0   \n",
       "2              0            1                      0                      0   \n",
       "3              0            1                      0                      0   \n",
       "4              0            1                      1                      0   \n",
       "5              0            1                      0                      0   \n",
       "\n",
       "    SaleCondition_Alloca  SaleCondition_Family  SaleCondition_Normal  \\\n",
       "Id                                                                     \n",
       "1                      0                     0                     1   \n",
       "2                      0                     0                     1   \n",
       "3                      0                     0                     1   \n",
       "4                      0                     0                     0   \n",
       "5                      0                     0                     1   \n",
       "\n",
       "    SaleCondition_Partial  SalePrice  \n",
       "Id                                    \n",
       "1                       0  12.109011  \n",
       "2                       0  12.317167  \n",
       "3                       0  11.849398  \n",
       "4                       0  12.429216  \n",
       "5                       0  11.870600  \n",
       "\n",
       "[5 rows x 279 columns]"
      ]
     },
     "execution_count": 44,
     "metadata": {},
     "output_type": "execute_result"
    }
   ],
   "source": [
    "train_data.head()"
   ]
  },
  {
   "cell_type": "code",
   "execution_count": 46,
   "id": "196660a8",
   "metadata": {},
   "outputs": [],
   "source": [
    "train_set, valid_set = train_test_split(train_data,train_size= 0.7, shuffle=False)\n",
    "\n",
    "X_train = train_set.drop([\"SalePrice\"], axis=1)  # training features\n",
    "y_train = train_set[\"SalePrice\"].copy()             # training label\n",
    "\n",
    "X_valid = valid_set.drop([\"SalePrice\"], axis=1)  # testing features\n",
    "y_valid = valid_set[\"SalePrice\"].copy()               # testing label"
   ]
  },
  {
   "cell_type": "code",
   "execution_count": 47,
   "id": "828c675a",
   "metadata": {},
   "outputs": [
    {
     "name": "stdout",
     "output_type": "stream",
     "text": [
      "X_train shape: (1018, 278)\n",
      "y_train shape: (1018,)\n",
      "\n",
      "X_valid shape: (437, 278)\n",
      "y_valid shape: (437,)\n",
      "\n",
      "X_test shape: (1459, 278)\n"
     ]
    }
   ],
   "source": [
    "print(\"X_train shape: {}\".format(X_train.shape))\n",
    "print(\"y_train shape: {}\".format(y_train.shape))\n",
    "print()\n",
    "print(\"X_valid shape: {}\".format(X_valid.shape))\n",
    "print(\"y_valid shape: {}\".format(y_valid.shape))\n",
    "print()\n",
    "print(\"X_test shape: {}\".format(X_test.shape))"
   ]
  },
  {
   "cell_type": "code",
   "execution_count": 48,
   "id": "6375e80c",
   "metadata": {},
   "outputs": [
    {
     "name": "stdout",
     "output_type": "stream",
     "text": [
      "<class 'pandas.core.frame.DataFrame'>\n",
      "Int64Index: 1018 entries, 1 to 1021\n",
      "Columns: 278 entries, MSSubClass to SaleCondition_Partial\n",
      "dtypes: float64(4), int64(37), uint8(237)\n",
      "memory usage: 569.6 KB\n",
      "<class 'pandas.core.frame.DataFrame'>\n",
      "Int64Index: 437 entries, 1022 to 1460\n",
      "Columns: 278 entries, MSSubClass to SaleCondition_Partial\n",
      "dtypes: float64(4), int64(37), uint8(237)\n",
      "memory usage: 244.5 KB\n"
     ]
    },
    {
     "data": {
      "text/plain": [
       "Id\n",
       "1       12.109011\n",
       "2       12.317167\n",
       "3       11.849398\n",
       "4       12.429216\n",
       "5       11.870600\n",
       "          ...    \n",
       "1017    12.078239\n",
       "1018    12.175613\n",
       "1019    11.373663\n",
       "1020    12.160029\n",
       "1021    12.567237\n",
       "Name: SalePrice, Length: 1018, dtype: float64"
      ]
     },
     "execution_count": 48,
     "metadata": {},
     "output_type": "execute_result"
    }
   ],
   "source": [
    "X_train.info()\n",
    "\n",
    "X_valid.info()\n",
    "y_train"
   ]
  },
  {
   "cell_type": "code",
   "execution_count": 49,
   "id": "961af726",
   "metadata": {},
   "outputs": [
    {
     "name": "stdout",
     "output_type": "stream",
     "text": [
      "0\n",
      "0\n"
     ]
    }
   ],
   "source": [
    "null_t_x = X_train.isnull().sum().sum()\n",
    "print(null_t_x)\n",
    "\n",
    "null_t_y = y_train.isnull().sum().sum()\n",
    "print(null_t_y)"
   ]
  },
  {
   "cell_type": "code",
   "execution_count": 50,
   "id": "0b708dac",
   "metadata": {},
   "outputs": [
    {
     "name": "stdout",
     "output_type": "stream",
     "text": [
      "0\n",
      "6\n"
     ]
    }
   ],
   "source": [
    "null_v_x = X_valid.isnull().sum().sum()\n",
    "print(null_v_x)\n",
    "\n",
    "null_v_y = y_valid.isnull().sum().sum()\n",
    "print(null_v_y)"
   ]
  },
  {
   "cell_type": "code",
   "execution_count": 51,
   "id": "1ead2307",
   "metadata": {},
   "outputs": [
    {
     "data": {
      "text/plain": [
       "(array([431, 432, 433, 434, 435, 436], dtype=int64),)"
      ]
     },
     "execution_count": 51,
     "metadata": {},
     "output_type": "execute_result"
    }
   ],
   "source": [
    "np.where(np.isnan(y_valid))"
   ]
  },
  {
   "cell_type": "code",
   "execution_count": 52,
   "id": "b776f726",
   "metadata": {},
   "outputs": [],
   "source": [
    "# replace null values by mean value of y_valid column\n",
    "mean = np.nanmean(y_valid)\n",
    "y_valid = np.nan_to_num(y_valid,nan = mean)"
   ]
  },
  {
   "cell_type": "code",
   "execution_count": 53,
   "id": "59ca5796",
   "metadata": {},
   "outputs": [
    {
     "data": {
      "text/plain": [
       "(array([], dtype=int64),)"
      ]
     },
     "execution_count": 53,
     "metadata": {},
     "output_type": "execute_result"
    }
   ],
   "source": [
    "#check again\n",
    "np.where(np.isnan(y_valid))"
   ]
  },
  {
   "cell_type": "code",
   "execution_count": 54,
   "id": "ec5ccfe1",
   "metadata": {},
   "outputs": [
    {
     "name": "stdout",
     "output_type": "stream",
     "text": [
      "Valid data shape:\n",
      "(437, 278) (437,)\n",
      "\n"
     ]
    }
   ],
   "source": [
    "print(\"Valid data shape:\")\n",
    "print(X_valid.shape, y_valid.shape)\n",
    "print()"
   ]
  },
  {
   "cell_type": "markdown",
   "id": "a4bf50a1",
   "metadata": {},
   "source": [
    "# CROSS VALIDATION AND RMSE"
   ]
  },
  {
   "cell_type": "code",
   "execution_count": 60,
   "id": "1da61c4d",
   "metadata": {},
   "outputs": [],
   "source": [
    "# calculating cross validation score with scoring set to negative mean absolute error\n",
    "def cross_validation(model):\n",
    "    \n",
    "    scores = np.sqrt(-cross_val_score(model, X_train, y_train, cv = 12, scoring = \"neg_mean_squared_error\"))\n",
    "    mean = np.mean(scores)\n",
    "    print(\"Mean CV score: \",mean)"
   ]
  },
  {
   "cell_type": "code",
   "execution_count": 61,
   "id": "076a2223",
   "metadata": {},
   "outputs": [],
   "source": [
    "# function to calculate Root mean square error (RMSE)\n",
    "def rmse(y_pred, y_train): \n",
    "    \n",
    "    rmse_ = np.sqrt(metrics.mean_squared_error(y_pred,y_train))\n",
    "    print(\"rmse: \", rmse_)"
   ]
  },
  {
   "cell_type": "code",
   "execution_count": 62,
   "id": "ec48f2ef",
   "metadata": {},
   "outputs": [],
   "source": [
    "# function to plot actual vs predicited label\n",
    "def actual_vs_pred_plot(y_train,y_pred):\n",
    "    \n",
    "    fig = plt.figure(figsize=(12,12))\n",
    "    fig, ax = plt.subplots()\n",
    "    \n",
    "    ax.scatter(y_train, y_pred,color = \"teal\",edgecolor = 'lightblue')\n",
    "    ax.plot([y_train.min(),y_train.max()], [y_train.min(), y_train.max()], 'k--',lw=0.2)\n",
    "    ax.set_xlabel('Actual')\n",
    "    ax.set_ylabel('Predicted')\n",
    "    plt.suptitle(\"Actual vs Predicted Scatter Plot\",size=14)\n",
    "    plt.show()"
   ]
  },
  {
   "cell_type": "markdown",
   "id": "d9bddb19",
   "metadata": {},
   "source": [
    "# LINEAR REGRESSION"
   ]
  },
  {
   "cell_type": "code",
   "execution_count": 63,
   "id": "3bdcb1c9",
   "metadata": {},
   "outputs": [
    {
     "name": "stdout",
     "output_type": "stream",
     "text": [
      "Mean CV score:  0.48123938133962274\n"
     ]
    }
   ],
   "source": [
    "reg = linear_model.LinearRegression()\n",
    "cross_validation(reg)"
   ]
  },
  {
   "cell_type": "code",
   "execution_count": 64,
   "id": "920c0d19",
   "metadata": {},
   "outputs": [
    {
     "name": "stdout",
     "output_type": "stream",
     "text": [
      "rmse:  0.36114544449349023\n"
     ]
    }
   ],
   "source": [
    "#fit on training\n",
    "model_reg = reg.fit(X_train, y_train)\n",
    "\n",
    "#predict value of sale price on the training set\n",
    "y1_pred = reg.predict(X_train)\n",
    "\n",
    "#caculate root mean square error\n",
    "rmse(y1_pred,y_train)"
   ]
  },
  {
   "cell_type": "code",
   "execution_count": 65,
   "id": "2339dd5f",
   "metadata": {},
   "outputs": [
    {
     "name": "stdout",
     "output_type": "stream",
     "text": [
      "rmse:  0.42823875939462136\n"
     ]
    }
   ],
   "source": [
    "#predict value of sale price on the validation set\n",
    "y1_pred_v = reg.predict(X_valid)\n",
    "\n",
    "#caculate root mean square error\n",
    "rmse(y1_pred_v, y_valid)"
   ]
  },
  {
   "cell_type": "code",
   "execution_count": 66,
   "id": "00d7313d",
   "metadata": {},
   "outputs": [
    {
     "data": {
      "text/plain": [
       "<Figure size 864x864 with 0 Axes>"
      ]
     },
     "metadata": {},
     "output_type": "display_data"
    },
    {
     "data": {
      "image/png": "[encoded data removed]",
      "text/plain": [
       "<Figure size 432x288 with 1 Axes>"
      ]
     },
     "metadata": {},
     "output_type": "display_data"
    }
   ],
   "source": [
    "actual_vs_pred_plot(y_valid,y1_pred_v)"
   ]
  },
  {
   "cell_type": "markdown",
   "id": "012e21ea",
   "metadata": {},
   "source": [
    "# DECISION TREE"
   ]
  },
  {
   "cell_type": "code",
   "execution_count": 69,
   "id": "701cf99b",
   "metadata": {},
   "outputs": [],
   "source": [
    "from sklearn import tree"
   ]
  },
  {
   "cell_type": "code",
   "execution_count": 70,
   "id": "d0f3c69f",
   "metadata": {},
   "outputs": [],
   "source": [
    "# set max depth to 5\n",
    "tree_regr1 = tree.DecisionTreeRegressor(max_depth = 7, min_samples_leaf=5,random_state=42)\n",
    "\n",
    "# set max depth to 9\n",
    "tree_regr2 = tree.DecisionTreeRegressor(max_depth = 9,min_samples_leaf=9,random_state=42)\n",
    "\n",
    "#fit the traning data to a decision tree model\n",
    "tree_regr11 = tree_regr1.fit(X_train,y_train)\n",
    "tree_regr12 = tree_regr2.fit(X_train,y_train)\n",
    "\n",
    "#predict value of sale price on the training set\n",
    "y1 = tree_regr1.predict(X_train)\n",
    "y2 = tree_regr2.predict(X_train)"
   ]
  },
  {
   "cell_type": "code",
   "execution_count": 71,
   "id": "0faf69fe",
   "metadata": {},
   "outputs": [
    {
     "name": "stdout",
     "output_type": "stream",
     "text": [
      "Mean CV score:  0.4475156945313334\n",
      "Mean CV score:  0.45985873459811805\n"
     ]
    }
   ],
   "source": [
    "cross_validation(tree_regr1)\n",
    "cross_validation(tree_regr2)"
   ]
  },
  {
   "cell_type": "code",
   "execution_count": 72,
   "id": "aec958ae",
   "metadata": {},
   "outputs": [
    {
     "name": "stdout",
     "output_type": "stream",
     "text": [
      "rmse:  0.3666148963691581\n"
     ]
    }
   ],
   "source": [
    "#caculate root mean square error\n",
    "rmse(y1,y_train)"
   ]
  },
  {
   "cell_type": "code",
   "execution_count": 73,
   "id": "e05fdeea",
   "metadata": {},
   "outputs": [
    {
     "name": "stdout",
     "output_type": "stream",
     "text": [
      "rmse:  0.3522599974716787\n"
     ]
    }
   ],
   "source": [
    "rmse(y2,y_train)"
   ]
  },
  {
   "cell_type": "code",
   "execution_count": 74,
   "id": "79cf349c",
   "metadata": {},
   "outputs": [
    {
     "name": "stdout",
     "output_type": "stream",
     "text": [
      "rmse:  0.41722657014475906\n"
     ]
    }
   ],
   "source": [
    "#predict value of sale price on the validation set\n",
    "y5_pred_v = tree_regr2.predict(X_valid)\n",
    "\n",
    "#caculate root mean square error\n",
    "rmse(y5_pred_v, y_valid)"
   ]
  },
  {
   "cell_type": "code",
   "execution_count": 75,
   "id": "60d9e697",
   "metadata": {},
   "outputs": [
    {
     "data": {
      "text/plain": [
       "<Figure size 864x864 with 0 Axes>"
      ]
     },
     "metadata": {},
     "output_type": "display_data"
    },
    {
     "data": {
      "image/png": "[encoded data removed]",
      "text/plain": [
       "<Figure size 432x288 with 1 Axes>"
      ]
     },
     "metadata": {},
     "output_type": "display_data"
    }
   ],
   "source": [
    "#plot\n",
    "actual_vs_pred_plot(y_valid,y5_pred_v)"
   ]
  },
  {
   "cell_type": "markdown",
   "id": "cd6eb238",
   "metadata": {},
   "source": [
    "# XG BOOST"
   ]
  },
  {
   "cell_type": "code",
   "execution_count": 76,
   "id": "9bf317fe",
   "metadata": {},
   "outputs": [
    {
     "name": "stdout",
     "output_type": "stream",
     "text": [
      "Requirement already satisfied: xgboost in c:\\anaco\\lib\\site-packages (1.7.6)\n",
      "Requirement already satisfied: numpy in c:\\anaco\\lib\\site-packages (from xgboost) (1.21.5)\n",
      "Requirement already satisfied: scipy in c:\\anaco\\lib\\site-packages (from xgboost) (1.9.3)\n"
     ]
    }
   ],
   "source": [
    "!pip install xgboost"
   ]
  },
  {
   "cell_type": "code",
   "execution_count": 80,
   "id": "de31a136",
   "metadata": {},
   "outputs": [],
   "source": [
    "import xgboost as xgb\n",
    "from xgboost import XGBRegressor"
   ]
  },
  {
   "cell_type": "code",
   "execution_count": 83,
   "id": "7ece855c",
   "metadata": {},
   "outputs": [],
   "source": [
    "from sklearn.model_selection import KFold, cross_val_score\n",
    "\n",
    "n_folds = 10\n",
    "\n",
    "\n",
    "def getRMSLE(model):\n",
    "    \"\"\"\n",
    "    Return the average RMSLE over all folds of training data.\n",
    "    \"\"\"\n",
    "    # Set KFold to shuffle data before the split\n",
    "    kf = KFold(n_folds, shuffle=True, random_state=7)\n",
    "\n",
    "    # Get RMSLE score\n",
    "    rmse = np.sqrt(-cross_val_score(\n",
    "        model, X_train, y_train, scoring=\"neg_mean_squared_error\", cv=kf))\n",
    "\n",
    "    return rmse.mean()"
   ]
  },
  {
   "cell_type": "code",
   "execution_count": 84,
   "id": "024f251a",
   "metadata": {},
   "outputs": [
    {
     "data": {
      "text/plain": [
       "0.4649157096704533"
      ]
     },
     "execution_count": 84,
     "metadata": {},
     "output_type": "execute_result"
    }
   ],
   "source": [
    "xgb = XGBRegressor(learning_rate=0.05,\n",
    "                   n_estimators=2100,\n",
    "                   max_depth=3,\n",
    "                   min_child_weight=2,\n",
    "                   gamma=0,\n",
    "                   subsample=0.65,\n",
    "                   colsample_bytree=0.46,\n",
    "                   nthread=-1,\n",
    "                   scale_pos_weight=1,\n",
    "                   reg_alpha=0.464,\n",
    "                   reg_lambda=0.8571,\n",
    "                   random_state=7,\n",
    "                   n_jobs=2)\n",
    "getRMSLE(xgb)"
   ]
  },
  {
   "cell_type": "code",
   "execution_count": null,
   "id": "11aedea2",
   "metadata": {},
   "outputs": [],
   "source": []
  },
  {
   "cell_type": "code",
   "execution_count": null,
   "id": "718fceb4",
   "metadata": {},
   "outputs": [],
   "source": []
  },
  {
   "cell_type": "code",
   "execution_count": null,
   "id": "cf9b2fc1",
   "metadata": {},
   "outputs": [],
   "source": []
  },
  {
   "cell_type": "code",
   "execution_count": null,
   "id": "5075f08c",
   "metadata": {},
   "outputs": [],
   "source": []
  },
  {
   "cell_type": "code",
   "execution_count": null,
   "id": "fb4cb625",
   "metadata": {},
   "outputs": [],
   "source": []
  },
  {
   "cell_type": "code",
   "execution_count": null,
   "id": "f538c7c0",
   "metadata": {},
   "outputs": [],
   "source": []
  },
  {
   "cell_type": "code",
   "execution_count": null,
   "id": "ca6a7300",
   "metadata": {},
   "outputs": [],
   "source": []
  }
 ],
 "metadata": {
  "kernelspec": {
   "display_name": "Python 3 (ipykernel)",
   "language": "python",
   "name": "python3"
  },
  "language_info": {
   "codemirror_mode": {
    "name": "ipython",
    "version": 3
   },
   "file_extension": ".py",
   "mimetype": "text/x-python",
   "name": "python",
   "nbconvert_exporter": "python",
   "pygments_lexer": "ipython3",
   "version": "3.9.12"
  }
 },
 "nbformat": 4,
 "nbformat_minor": 5
}
